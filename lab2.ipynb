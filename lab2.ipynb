{
  "cells": [
    {
      "cell_type": "markdown",
      "id": "1121b7d4d30d3f4b",
      "metadata": {
        "id": "1121b7d4d30d3f4b"
      },
      "source": [
        "# Lab 2\n",
        "\n",
        "## Introduction\n",
        "\n",
        "The Red Dragon Inn is an online Dungeons and Dragons community, connecting players worldwide.\n",
        "  \n",
        "In this lab, you will develop a tool that helps users calculate the probabilities of specific events occurring during gameplay, enhancing their strategic planning. For instance, users may wish to calculate the probability of the sum of two six-sided dice being 10 or more.\n",
        "  \n",
        "In Dungeons and Dragons, the notation mdn denotes the process of rolling m dice, each with n sides. Here, rolling two six-sided dice is expressed as 2d6, and rolling three eight-sided dice is denoted by 3d8.\n",
        "\n",
        "You are tasked with creating a utility to assist players in the following two scenarios:\n",
        "\n",
        "> A Calculating the probability of rolling m dice, each with n sides, and having the sum of the dice be greater than x. This calculation should only be implemented for m = 1 through 4 and n is at most 20.\n",
        "\n",
        "> B Determining the probability of rolling m dice, each with n sides, and having at least one die show a value greater than or equal to x.\n",
        "\n",
        "Your task is to develop two functions, one for each scenario, where users can input values for m, n, and x to compute the required probability. Ensure to document your code well, with comments that effectively guide users through each step of the computation process.\n",
        "\n",
        "Here’s a hint to help you get started with computing probabilities in Python. The following code snippet shows how to calculate the probability of rolling a sum greater than or equal to a specific target using three six-sided dice (3d6):\n",
        "  \n",
        "<br>\n",
        "\n",
        "<details>\n",
        "  <summary>💡 Hint</summary>\n",
        "\n",
        "  ```python\n",
        "  \n",
        "  import itertools\n",
        "  import pandas as pd\n",
        "  import numpy as np\n",
        "\n",
        "  # List out all possible rolls, in this case for 3d6\n",
        "  rolls = list(itertools.product(range(1, 7), repeat=3))\n",
        "\n",
        "  # Find the sum of all possible rolls\n",
        "  sums = np.array([sum(roll) for roll in rolls])\n",
        "\n",
        "  # Find the proportion of those sums that are greater than or equal to the target, in this case 14\n",
        "  np.mean(sums >= 14)\n",
        "  \n",
        "  ```\n",
        "\n",
        "This code uses the itertools.product function to generate all possible combinations of outcomes for the dice rolls and then calculates the proportion of those combinations that meet or exceed the target sum. You can use this code to get started in the function you need for Scenario A.\n",
        "\n",
        "</details>\n",
        "\n",
        "<br>\n",
        "\n",
        "Evaluate the performance of your tool using the following scenario:\n",
        "\n",
        "A player is in a challenging situation where they have a choice. They can choose between the following challenges:\n",
        "* Roll 1d20 and get a result of 17 or more\n",
        "* Roll 3d4 and get a result of 10 or more\n",
        "* Roll 4d6 and have at least one dice show a 6\n",
        "\n",
        "Use your tool to compute the probabilities and report the best choice for the player.\n",
        "\n",
        "## Deliverables\n",
        "\n",
        "Submit a comprehensive report to Red Dragon Inn containing:\n",
        "\n",
        "1. A well-documented code capable of computing the probabilities specified in scenarios A and B.\n",
        "2. A walkthrough example showcasing the application of your code in resolving the situation delineated above. Be sure to highlight or emphasize the probabilities you find.\n",
        "\n",
        "You can again complete this in a Python notebook with everything clearly labeled and formatted."
      ]
    },
    {
      "cell_type": "markdown",
      "id": "3e64fac1423570a",
      "metadata": {
        "id": "3e64fac1423570a"
      },
      "source": [
        "<br>\n",
        "\n",
        "#### A) Calculating the probability of rolling m dice, each with n sides, and having the sum of the dice be greater than x. This calculation should only be implemented for m = 1 through 4 and n is at most 20."
      ]
    },
    {
      "cell_type": "code",
      "execution_count": null,
      "id": "initial_id",
      "metadata": {
        "colab": {
          "base_uri": "https://localhost:8080/"
        },
        "id": "initial_id",
        "jupyter": {
          "is_executing": true
        },
        "outputId": "3b807ece-5804-4cc1-8bb4-e5739d28d215"
      },
      "outputs": [
        {
          "name": "stdout",
          "output_type": "stream",
          "text": [
            "0.09259259259259259\n"
          ]
        }
      ],
      "source": [
        "import itertools\n",
        "import pandas as pd\n",
        "import numpy as np\n",
        "\n",
        "def sumGreaterThanProbability(num_dice, num_sides, target_sum):\n",
        "  # check to make sure that the inputs fall within the problem specs\n",
        "  if num_dice > 4 or num_dice < 1 or num_sides >= 20 or num_sides < 2:\n",
        "    print('Invalid Parameters. Number of dice must be between 1 and 4 and number of sides must be less than or equal to 20.')\n",
        "    return None\n",
        "\n",
        "  # generate a list of possible rolls with num_dice dice of num_sides sides\n",
        "  rolls = list(itertools.product(range(1, num_sides + 1), repeat=num_dice))\n",
        "\n",
        "  # for each of the possible rolls, filter out the rolls where the sum of the\n",
        "  # dice is greater than the target\n",
        "  greater_than_target = [roll for roll in rolls if sum(roll) > target_sum]\n",
        "\n",
        "  # divide the number of rolls that meet the condition by the total number of\n",
        "  # possible rolls to get the probability\n",
        "  return len(greater_than_target) / len(rolls)\n",
        "\n",
        "print(sumGreaterThanProbability(3, 6, 14))"
      ]
    },
    {
      "cell_type": "code",
      "execution_count": null,
      "id": "E_mRqmaKL3nz",
      "metadata": {
        "colab": {
          "base_uri": "https://localhost:8080/"
        },
        "id": "E_mRqmaKL3nz",
        "outputId": "48e0f91c-0796-4d2c-956b-618ca121e9c5"
      },
      "outputs": [
        {
          "name": "stdout",
          "output_type": "stream",
          "text": [
            "0.2\n",
            "0.15625\n",
            "0.4822530864197532\n"
          ]
        }
      ],
      "source": [
        "# Print the probability of the three given scenarios\n",
        "print(sumGreaterThanProbability(1, 20, 16))\n",
        "print(sumGreaterThanProbability(3, 4, 9))\n",
        "print((1 - sumGreaterThanProbability(1, 6, 5)) ** 4)"
      ]
    },
    {
      "cell_type": "markdown",
      "id": "F6OG_fL_L4YK",
      "metadata": {
        "id": "F6OG_fL_L4YK"
      },
      "source": [
        "* Roll 1d20 and get a result of 17 or more (0.2)\n",
        "* Roll 3d4 and get a result of 10 or more (0.156)\n",
        "* Roll 4d6 and have at least one dice show a 6 (0.482)"
      ]
    },
    {
      "cell_type": "markdown",
      "id": "65fbda87c454c8e4",
      "metadata": {
        "id": "65fbda87c454c8e4"
      },
      "source": [
        "<br>\n",
        "\n",
        "#### B) Determining the probability of rolling m dice, each with n sides, and having at least one die show a value greater than or equal to x."
      ]
    },
    {
      "cell_type": "code",
      "execution_count": null,
      "id": "tYXTtQxlHS-7",
      "metadata": {
        "colab": {
          "base_uri": "https://localhost:8080/"
        },
        "id": "tYXTtQxlHS-7",
        "outputId": "3777dc85-edd1-407b-bf02-ca74b0eab788"
      },
      "outputs": [
        {
          "name": "stdout",
          "output_type": "stream",
          "text": [
            "0.875\n"
          ]
        }
      ],
      "source": [
        "def oneDieGreaterThanProbability(num_dice, num_sides, target):\n",
        "  # generate a list of possible rolls with num_dice dice of num_sides sides\n",
        "  rolls = list(itertools.product(range(1, num_sides + 1), repeat=num_dice))\n",
        "\n",
        "  # for each of the possible rolls, filter out the rolls where one die is\n",
        "  # greater than the target\n",
        "  greater_than_target = [roll for roll in rolls if max(roll) >= target]\n",
        "\n",
        "  # divide the number of rolls that meet the condition by the total number of\n",
        "  # possible rolls to get the probability\n",
        "  return len(greater_than_target) / len(rolls)\n",
        "\n",
        "print(oneDieGreaterThanProbability(3, 6, 4))"
      ]
    }
  ],
  "metadata": {
    "colab": {
      "provenance": []
    },
    "kernelspec": {
      "display_name": "Python 3",
      "language": "python",
      "name": "python3"
    },
    "language_info": {
      "codemirror_mode": {
        "name": "ipython",
        "version": 2
      },
      "file_extension": ".py",
      "mimetype": "text/x-python",
      "name": "python",
      "nbconvert_exporter": "python",
      "pygments_lexer": "ipython2",
      "version": "3.12.4"
    }
  },
  "nbformat": 4,
  "nbformat_minor": 5
}
